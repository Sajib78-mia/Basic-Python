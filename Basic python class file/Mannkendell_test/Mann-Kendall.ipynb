{
 "cells": [
  {
   "cell_type": "markdown",
   "id": "7529eac2",
   "metadata": {},
   "source": [
    "Mann-Kendall Test: https://pypi.org/project/pymannkendall/"
   ]
  },
  {
   "cell_type": "code",
   "execution_count": 1,
   "id": "2bc34bb7",
   "metadata": {},
   "outputs": [],
   "source": [
    "import pandas as pd\n",
    "import pymannkendall as mk"
   ]
  },
  {
   "cell_type": "code",
   "execution_count": 2,
   "id": "9409c4d6",
   "metadata": {},
   "outputs": [
    {
     "data": {
      "text/html": [
       "<div>\n",
       "<style scoped>\n",
       "    .dataframe tbody tr th:only-of-type {\n",
       "        vertical-align: middle;\n",
       "    }\n",
       "\n",
       "    .dataframe tbody tr th {\n",
       "        vertical-align: top;\n",
       "    }\n",
       "\n",
       "    .dataframe thead th {\n",
       "        text-align: right;\n",
       "    }\n",
       "</style>\n",
       "<table border=\"1\" class=\"dataframe\">\n",
       "  <thead>\n",
       "    <tr style=\"text-align: right;\">\n",
       "      <th></th>\n",
       "      <th>Year</th>\n",
       "      <th>Day</th>\n",
       "      <th>Dhaka</th>\n",
       "      <th>Mymensingh</th>\n",
       "      <th>Faridpur</th>\n",
       "      <th>Madaripur</th>\n",
       "      <th>Sylhet</th>\n",
       "      <th>Bogra</th>\n",
       "      <th>Rajshahi</th>\n",
       "      <th>Rangpur</th>\n",
       "      <th>...</th>\n",
       "      <th>Barisal</th>\n",
       "      <th>Bhola</th>\n",
       "      <th>Patuakhali</th>\n",
       "      <th>Chittagong</th>\n",
       "      <th>Comilla</th>\n",
       "      <th>Cox's  Bazar</th>\n",
       "      <th>Feni</th>\n",
       "      <th>Rangamati</th>\n",
       "      <th>Sandwip</th>\n",
       "      <th>Teknaf</th>\n",
       "    </tr>\n",
       "  </thead>\n",
       "  <tbody>\n",
       "    <tr>\n",
       "      <th>0</th>\n",
       "      <td>1980</td>\n",
       "      <td>1</td>\n",
       "      <td>24.6</td>\n",
       "      <td>22.8</td>\n",
       "      <td>23.5</td>\n",
       "      <td>28.7</td>\n",
       "      <td>22.3</td>\n",
       "      <td>23.7</td>\n",
       "      <td>23.3</td>\n",
       "      <td>21.4</td>\n",
       "      <td>...</td>\n",
       "      <td>30.3</td>\n",
       "      <td>24.7</td>\n",
       "      <td>26.4</td>\n",
       "      <td>25.0</td>\n",
       "      <td>22.7</td>\n",
       "      <td>23.4</td>\n",
       "      <td>22.9</td>\n",
       "      <td>24.4</td>\n",
       "      <td>35.2</td>\n",
       "      <td>22.9</td>\n",
       "    </tr>\n",
       "    <tr>\n",
       "      <th>1</th>\n",
       "      <td>1980</td>\n",
       "      <td>2</td>\n",
       "      <td>20.0</td>\n",
       "      <td>16.9</td>\n",
       "      <td>18.5</td>\n",
       "      <td>24.9</td>\n",
       "      <td>19.1</td>\n",
       "      <td>16.4</td>\n",
       "      <td>16.8</td>\n",
       "      <td>19.2</td>\n",
       "      <td>...</td>\n",
       "      <td>22.4</td>\n",
       "      <td>26.0</td>\n",
       "      <td>29.8</td>\n",
       "      <td>26.9</td>\n",
       "      <td>24.5</td>\n",
       "      <td>27.0</td>\n",
       "      <td>27.0</td>\n",
       "      <td>25.3</td>\n",
       "      <td>33.0</td>\n",
       "      <td>25.6</td>\n",
       "    </tr>\n",
       "    <tr>\n",
       "      <th>2</th>\n",
       "      <td>1980</td>\n",
       "      <td>3</td>\n",
       "      <td>22.0</td>\n",
       "      <td>22.0</td>\n",
       "      <td>18.8</td>\n",
       "      <td>22.3</td>\n",
       "      <td>25.0</td>\n",
       "      <td>20.3</td>\n",
       "      <td>20.5</td>\n",
       "      <td>19.7</td>\n",
       "      <td>...</td>\n",
       "      <td>21.5</td>\n",
       "      <td>23.0</td>\n",
       "      <td>25.2</td>\n",
       "      <td>25.8</td>\n",
       "      <td>21.4</td>\n",
       "      <td>28.2</td>\n",
       "      <td>26.1</td>\n",
       "      <td>24.8</td>\n",
       "      <td>33.1</td>\n",
       "      <td>26.7</td>\n",
       "    </tr>\n",
       "    <tr>\n",
       "      <th>3</th>\n",
       "      <td>1980</td>\n",
       "      <td>4</td>\n",
       "      <td>22.3</td>\n",
       "      <td>21.4</td>\n",
       "      <td>21.9</td>\n",
       "      <td>26.6</td>\n",
       "      <td>25.0</td>\n",
       "      <td>21.5</td>\n",
       "      <td>20.6</td>\n",
       "      <td>22.9</td>\n",
       "      <td>...</td>\n",
       "      <td>22.1</td>\n",
       "      <td>21.8</td>\n",
       "      <td>26.1</td>\n",
       "      <td>26.4</td>\n",
       "      <td>23.2</td>\n",
       "      <td>27.6</td>\n",
       "      <td>24.0</td>\n",
       "      <td>24.2</td>\n",
       "      <td>30.6</td>\n",
       "      <td>27.6</td>\n",
       "    </tr>\n",
       "    <tr>\n",
       "      <th>4</th>\n",
       "      <td>1980</td>\n",
       "      <td>5</td>\n",
       "      <td>23.0</td>\n",
       "      <td>23.3</td>\n",
       "      <td>22.0</td>\n",
       "      <td>27.0</td>\n",
       "      <td>24.6</td>\n",
       "      <td>22.7</td>\n",
       "      <td>22.1</td>\n",
       "      <td>22.5</td>\n",
       "      <td>...</td>\n",
       "      <td>23.7</td>\n",
       "      <td>22.3</td>\n",
       "      <td>25.9</td>\n",
       "      <td>25.2</td>\n",
       "      <td>23.3</td>\n",
       "      <td>24.8</td>\n",
       "      <td>21.5</td>\n",
       "      <td>24.3</td>\n",
       "      <td>30.2</td>\n",
       "      <td>25.7</td>\n",
       "    </tr>\n",
       "  </tbody>\n",
       "</table>\n",
       "<p>5 rows × 22 columns</p>\n",
       "</div>"
      ],
      "text/plain": [
       "   Year  Day  Dhaka  Mymensingh  Faridpur  Madaripur  Sylhet  Bogra  Rajshahi  \\\n",
       "0  1980    1   24.6        22.8      23.5       28.7    22.3   23.7      23.3   \n",
       "1  1980    2   20.0        16.9      18.5       24.9    19.1   16.4      16.8   \n",
       "2  1980    3   22.0        22.0      18.8       22.3    25.0   20.3      20.5   \n",
       "3  1980    4   22.3        21.4      21.9       26.6    25.0   21.5      20.6   \n",
       "4  1980    5   23.0        23.3      22.0       27.0    24.6   22.7      22.1   \n",
       "\n",
       "   Rangpur  ...  Barisal  Bhola  Patuakhali  Chittagong  Comilla  \\\n",
       "0     21.4  ...     30.3   24.7        26.4        25.0     22.7   \n",
       "1     19.2  ...     22.4   26.0        29.8        26.9     24.5   \n",
       "2     19.7  ...     21.5   23.0        25.2        25.8     21.4   \n",
       "3     22.9  ...     22.1   21.8        26.1        26.4     23.2   \n",
       "4     22.5  ...     23.7   22.3        25.9        25.2     23.3   \n",
       "\n",
       "   Cox's  Bazar  Feni  Rangamati  Sandwip  Teknaf  \n",
       "0          23.4  22.9       24.4     35.2    22.9  \n",
       "1          27.0  27.0       25.3     33.0    25.6  \n",
       "2          28.2  26.1       24.8     33.1    26.7  \n",
       "3          27.6  24.0       24.2     30.6    27.6  \n",
       "4          24.8  21.5       24.3     30.2    25.7  \n",
       "\n",
       "[5 rows x 22 columns]"
      ]
     },
     "execution_count": 2,
     "metadata": {},
     "output_type": "execute_result"
    }
   ],
   "source": [
    "df = pd.read_csv(\"mktest_data.csv\")\n",
    "df.head()"
   ]
  },
  {
   "cell_type": "code",
   "execution_count": 3,
   "id": "1294be4c",
   "metadata": {},
   "outputs": [
    {
     "name": "stdout",
     "output_type": "stream",
     "text": [
      "Mann_Kendall_Test(trend='increasing', h=True, p=0.0, z=9.290425493994276, Tau=0.05259268934783098, s=5059174.0, var_s=296543119222.6667, slope=7.28199526670318e-05, intercept=30.094993628254137)\n"
     ]
    }
   ],
   "source": [
    "result = mk.original_test(df['Dhaka'])\n",
    "print(result)"
   ]
  },
  {
   "cell_type": "markdown",
   "id": "745c47f7",
   "metadata": {},
   "source": [
    "We can directly unpack our results."
   ]
  },
  {
   "cell_type": "code",
   "execution_count": 4,
   "id": "61a4806b",
   "metadata": {},
   "outputs": [],
   "source": [
    "trend, h, p, z, Tau, s, var_s, slope, intercept = mk.original_test(df['Dhaka'])"
   ]
  },
  {
   "cell_type": "code",
   "execution_count": 5,
   "id": "461ae144",
   "metadata": {},
   "outputs": [
    {
     "name": "stdout",
     "output_type": "stream",
     "text": [
      "increasing 0.0 7.28199526670318e-05\n"
     ]
    }
   ],
   "source": [
    "print(trend,p,slope)"
   ]
  },
  {
   "cell_type": "code",
   "execution_count": null,
   "id": "809e79d5",
   "metadata": {},
   "outputs": [],
   "source": []
  }
 ],
 "metadata": {
  "kernelspec": {
   "display_name": "Python 3 (ipykernel)",
   "language": "python",
   "name": "python3"
  },
  "language_info": {
   "codemirror_mode": {
    "name": "ipython",
    "version": 3
   },
   "file_extension": ".py",
   "mimetype": "text/x-python",
   "name": "python",
   "nbconvert_exporter": "python",
   "pygments_lexer": "ipython3",
   "version": "3.11.7"
  }
 },
 "nbformat": 4,
 "nbformat_minor": 5
}
