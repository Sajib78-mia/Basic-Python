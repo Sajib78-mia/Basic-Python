{
 "cells": [
  {
   "cell_type": "markdown",
   "metadata": {},
   "source": [
    "# Trainer:\n",
    "\n",
    "Md. Jalal Uddin, Founder and director of Research Society \n",
    "\n",
    "email: dmjalal90@gmail.com, 20205103002@nuist.edu.cn"
   ]
  },
  {
   "cell_type": "markdown",
   "metadata": {},
   "source": [
    "# Install netcdf4\n",
    "\n",
    "step 1: run Anaconda as Administrator\n",
    "\n",
    "step 2: you need to use the following command if you are a anaconda user\n",
    "\n",
    "conda install -c anaconda netcdf4 \n",
    "\n",
    "Or you need to use the following command if you are a python user\n",
    "\n",
    "pip install netCDF4"
   ]
  },
  {
   "cell_type": "markdown",
   "metadata": {},
   "source": [
    "# Install Cartopy\n",
    "\n",
    "step 1: run Anaconda as Administrator\n",
    "    \n",
    "step 2: you need to use the following command if you are a anaconda user\n",
    "\n",
    "conda install -c conda-forge cartopy"
   ]
  },
  {
   "cell_type": "markdown",
   "metadata": {},
   "source": [
    "# Install xarray\n",
    "\n",
    "step 1: run Anaconda as Administrator\n",
    "    \n",
    "step 2: you need to use the following command if you are a anaconda user\n",
    "\n",
    "conda install -c anaconda xarray"
   ]
  },
  {
   "cell_type": "code",
   "execution_count": 1,
   "metadata": {},
   "outputs": [
    {
     "ename": "ModuleNotFoundError",
     "evalue": "No module named 'netCDF4'",
     "output_type": "error",
     "traceback": [
      "\u001b[1;31m---------------------------------------------------------------------------\u001b[0m",
      "\u001b[1;31mModuleNotFoundError\u001b[0m                       Traceback (most recent call last)",
      "Cell \u001b[1;32mIn[1], line 1\u001b[0m\n\u001b[1;32m----> 1\u001b[0m \u001b[38;5;28;01mfrom\u001b[39;00m \u001b[38;5;21;01mnetCDF4\u001b[39;00m \u001b[38;5;28;01mimport\u001b[39;00m Dataset\n\u001b[0;32m      2\u001b[0m \u001b[38;5;28;01mimport\u001b[39;00m \u001b[38;5;21;01mxarray\u001b[39;00m \u001b[38;5;28;01mas\u001b[39;00m \u001b[38;5;21;01mxr\u001b[39;00m\n\u001b[0;32m      3\u001b[0m \u001b[38;5;28;01mimport\u001b[39;00m \u001b[38;5;21;01mmatplotlib\u001b[39;00m\u001b[38;5;21;01m.\u001b[39;00m\u001b[38;5;21;01mpyplot\u001b[39;00m \u001b[38;5;28;01mas\u001b[39;00m \u001b[38;5;21;01mplt\u001b[39;00m\n",
      "\u001b[1;31mModuleNotFoundError\u001b[0m: No module named 'netCDF4'"
     ]
    }
   ],
   "source": [
    "from netCDF4 import Dataset\n",
    "import xarray as xr\n",
    "import matplotlib.pyplot as plt\n",
    "import numpy as np\n",
    "from scipy.io import netcdf\n",
    "import cartopy.crs as ccrs"
   ]
  },
  {
   "cell_type": "markdown",
   "metadata": {},
   "source": [
    "# Know your data"
   ]
  },
  {
   "cell_type": "code",
   "execution_count": 2,
   "metadata": {},
   "outputs": [
    {
     "name": "stdout",
     "output_type": "stream",
     "text": [
      "dict_keys(['gwgt', 'lat', 'lon', 'time', 'prc'])\n"
     ]
    }
   ],
   "source": [
    "data = Dataset(r'precipitation.nc')\n",
    "\n",
    "print(data.variables.keys())  # print the variable name"
   ]
  },
  {
   "cell_type": "code",
   "execution_count": 3,
   "metadata": {},
   "outputs": [
    {
     "name": "stdout",
     "output_type": "stream",
     "text": [
      "<class 'netCDF4._netCDF4.Variable'>\n",
      "float32 gwgt(lat)\n",
      "    long_name: gaussian weights\n",
      "    short_name: gwgts\n",
      "    units: dimensionless\n",
      "unlimited dimensions: \n",
      "current shape = (64,)\n",
      "filling on, default _FillValue of 9.969209968386869e+36 used\n",
      "<class 'netCDF4._netCDF4.Variable'>\n",
      "float32 lat(lat)\n",
      "    short_name: lat\n",
      "    long_name: latitude\n",
      "    units: degrees_north\n",
      "unlimited dimensions: \n",
      "current shape = (64,)\n",
      "filling on, default _FillValue of 9.969209968386869e+36 used\n",
      "<class 'netCDF4._netCDF4.Variable'>\n",
      "float32 lon(lon)\n",
      "    short_name: lon\n",
      "    long_name: longitude\n",
      "    units: degrees_east\n",
      "unlimited dimensions: \n",
      "current shape = (128,)\n",
      "filling on, default _FillValue of 9.969209968386869e+36 used\n",
      "<class 'netCDF4._netCDF4.Variable'>\n",
      "int32 time(time)\n",
      "    long_name: Year-Month\n",
      "    short_name: YRMO\n",
      "    units: yyyymm\n",
      "    _FillValue: -999\n",
      "unlimited dimensions: \n",
      "current shape = (216,)\n",
      "filling on\n",
      "<class 'netCDF4._netCDF4.Variable'>\n",
      "float32 prc(time, lat, lon)\n",
      "    short_name: PRC\n",
      "    long_name: Precipitation\n",
      "    units: mm/day\n",
      "    _FillValue: -999.0\n",
      "unlimited dimensions: \n",
      "current shape = (216, 64, 128)\n",
      "filling on\n"
     ]
    }
   ],
   "source": [
    "for var in data.variables.values():\n",
    "    print(var)"
   ]
  },
  {
   "cell_type": "code",
   "execution_count": 4,
   "metadata": {},
   "outputs": [
    {
     "data": {
      "text/html": [
       "<div><svg style=\"position: absolute; width: 0; height: 0; overflow: hidden\">\n",
       "<defs>\n",
       "<symbol id=\"icon-database\" viewBox=\"0 0 32 32\">\n",
       "<path d=\"M16 0c-8.837 0-16 2.239-16 5v4c0 2.761 7.163 5 16 5s16-2.239 16-5v-4c0-2.761-7.163-5-16-5z\"></path>\n",
       "<path d=\"M16 17c-8.837 0-16-2.239-16-5v6c0 2.761 7.163 5 16 5s16-2.239 16-5v-6c0 2.761-7.163 5-16 5z\"></path>\n",
       "<path d=\"M16 26c-8.837 0-16-2.239-16-5v6c0 2.761 7.163 5 16 5s16-2.239 16-5v-6c0 2.761-7.163 5-16 5z\"></path>\n",
       "</symbol>\n",
       "<symbol id=\"icon-file-text2\" viewBox=\"0 0 32 32\">\n",
       "<path d=\"M28.681 7.159c-0.694-0.947-1.662-2.053-2.724-3.116s-2.169-2.030-3.116-2.724c-1.612-1.182-2.393-1.319-2.841-1.319h-15.5c-1.378 0-2.5 1.121-2.5 2.5v27c0 1.378 1.122 2.5 2.5 2.5h23c1.378 0 2.5-1.122 2.5-2.5v-19.5c0-0.448-0.137-1.23-1.319-2.841zM24.543 5.457c0.959 0.959 1.712 1.825 2.268 2.543h-4.811v-4.811c0.718 0.556 1.584 1.309 2.543 2.268zM28 29.5c0 0.271-0.229 0.5-0.5 0.5h-23c-0.271 0-0.5-0.229-0.5-0.5v-27c0-0.271 0.229-0.5 0.5-0.5 0 0 15.499-0 15.5 0v7c0 0.552 0.448 1 1 1h7v19.5z\"></path>\n",
       "<path d=\"M23 26h-14c-0.552 0-1-0.448-1-1s0.448-1 1-1h14c0.552 0 1 0.448 1 1s-0.448 1-1 1z\"></path>\n",
       "<path d=\"M23 22h-14c-0.552 0-1-0.448-1-1s0.448-1 1-1h14c0.552 0 1 0.448 1 1s-0.448 1-1 1z\"></path>\n",
       "<path d=\"M23 18h-14c-0.552 0-1-0.448-1-1s0.448-1 1-1h14c0.552 0 1 0.448 1 1s-0.448 1-1 1z\"></path>\n",
       "</symbol>\n",
       "</defs>\n",
       "</svg>\n",
       "<style>/* CSS stylesheet for displaying xarray objects in jupyterlab.\n",
       " *\n",
       " */\n",
       "\n",
       ":root {\n",
       "  --xr-font-color0: var(--jp-content-font-color0, rgba(0, 0, 0, 1));\n",
       "  --xr-font-color2: var(--jp-content-font-color2, rgba(0, 0, 0, 0.54));\n",
       "  --xr-font-color3: var(--jp-content-font-color3, rgba(0, 0, 0, 0.38));\n",
       "  --xr-border-color: var(--jp-border-color2, #e0e0e0);\n",
       "  --xr-disabled-color: var(--jp-layout-color3, #bdbdbd);\n",
       "  --xr-background-color: var(--jp-layout-color0, white);\n",
       "  --xr-background-color-row-even: var(--jp-layout-color1, white);\n",
       "  --xr-background-color-row-odd: var(--jp-layout-color2, #eeeeee);\n",
       "}\n",
       "\n",
       "html[theme=dark],\n",
       "body.vscode-dark {\n",
       "  --xr-font-color0: rgba(255, 255, 255, 1);\n",
       "  --xr-font-color2: rgba(255, 255, 255, 0.54);\n",
       "  --xr-font-color3: rgba(255, 255, 255, 0.38);\n",
       "  --xr-border-color: #1F1F1F;\n",
       "  --xr-disabled-color: #515151;\n",
       "  --xr-background-color: #111111;\n",
       "  --xr-background-color-row-even: #111111;\n",
       "  --xr-background-color-row-odd: #313131;\n",
       "}\n",
       "\n",
       ".xr-wrap {\n",
       "  display: block;\n",
       "  min-width: 300px;\n",
       "  max-width: 700px;\n",
       "}\n",
       "\n",
       ".xr-text-repr-fallback {\n",
       "  /* fallback to plain text repr when CSS is not injected (untrusted notebook) */\n",
       "  display: none;\n",
       "}\n",
       "\n",
       ".xr-header {\n",
       "  padding-top: 6px;\n",
       "  padding-bottom: 6px;\n",
       "  margin-bottom: 4px;\n",
       "  border-bottom: solid 1px var(--xr-border-color);\n",
       "}\n",
       "\n",
       ".xr-header > div,\n",
       ".xr-header > ul {\n",
       "  display: inline;\n",
       "  margin-top: 0;\n",
       "  margin-bottom: 0;\n",
       "}\n",
       "\n",
       ".xr-obj-type,\n",
       ".xr-array-name {\n",
       "  margin-left: 2px;\n",
       "  margin-right: 10px;\n",
       "}\n",
       "\n",
       ".xr-obj-type {\n",
       "  color: var(--xr-font-color2);\n",
       "}\n",
       "\n",
       ".xr-sections {\n",
       "  padding-left: 0 !important;\n",
       "  display: grid;\n",
       "  grid-template-columns: 150px auto auto 1fr 20px 20px;\n",
       "}\n",
       "\n",
       ".xr-section-item {\n",
       "  display: contents;\n",
       "}\n",
       "\n",
       ".xr-section-item input {\n",
       "  display: none;\n",
       "}\n",
       "\n",
       ".xr-section-item input + label {\n",
       "  color: var(--xr-disabled-color);\n",
       "}\n",
       "\n",
       ".xr-section-item input:enabled + label {\n",
       "  cursor: pointer;\n",
       "  color: var(--xr-font-color2);\n",
       "}\n",
       "\n",
       ".xr-section-item input:enabled + label:hover {\n",
       "  color: var(--xr-font-color0);\n",
       "}\n",
       "\n",
       ".xr-section-summary {\n",
       "  grid-column: 1;\n",
       "  color: var(--xr-font-color2);\n",
       "  font-weight: 500;\n",
       "}\n",
       "\n",
       ".xr-section-summary > span {\n",
       "  display: inline-block;\n",
       "  padding-left: 0.5em;\n",
       "}\n",
       "\n",
       ".xr-section-summary-in:disabled + label {\n",
       "  color: var(--xr-font-color2);\n",
       "}\n",
       "\n",
       ".xr-section-summary-in + label:before {\n",
       "  display: inline-block;\n",
       "  content: '►';\n",
       "  font-size: 11px;\n",
       "  width: 15px;\n",
       "  text-align: center;\n",
       "}\n",
       "\n",
       ".xr-section-summary-in:disabled + label:before {\n",
       "  color: var(--xr-disabled-color);\n",
       "}\n",
       "\n",
       ".xr-section-summary-in:checked + label:before {\n",
       "  content: '▼';\n",
       "}\n",
       "\n",
       ".xr-section-summary-in:checked + label > span {\n",
       "  display: none;\n",
       "}\n",
       "\n",
       ".xr-section-summary,\n",
       ".xr-section-inline-details {\n",
       "  padding-top: 4px;\n",
       "  padding-bottom: 4px;\n",
       "}\n",
       "\n",
       ".xr-section-inline-details {\n",
       "  grid-column: 2 / -1;\n",
       "}\n",
       "\n",
       ".xr-section-details {\n",
       "  display: none;\n",
       "  grid-column: 1 / -1;\n",
       "  margin-bottom: 5px;\n",
       "}\n",
       "\n",
       ".xr-section-summary-in:checked ~ .xr-section-details {\n",
       "  display: contents;\n",
       "}\n",
       "\n",
       ".xr-array-wrap {\n",
       "  grid-column: 1 / -1;\n",
       "  display: grid;\n",
       "  grid-template-columns: 20px auto;\n",
       "}\n",
       "\n",
       ".xr-array-wrap > label {\n",
       "  grid-column: 1;\n",
       "  vertical-align: top;\n",
       "}\n",
       "\n",
       ".xr-preview {\n",
       "  color: var(--xr-font-color3);\n",
       "}\n",
       "\n",
       ".xr-array-preview,\n",
       ".xr-array-data {\n",
       "  padding: 0 5px !important;\n",
       "  grid-column: 2;\n",
       "}\n",
       "\n",
       ".xr-array-data,\n",
       ".xr-array-in:checked ~ .xr-array-preview {\n",
       "  display: none;\n",
       "}\n",
       "\n",
       ".xr-array-in:checked ~ .xr-array-data,\n",
       ".xr-array-preview {\n",
       "  display: inline-block;\n",
       "}\n",
       "\n",
       ".xr-dim-list {\n",
       "  display: inline-block !important;\n",
       "  list-style: none;\n",
       "  padding: 0 !important;\n",
       "  margin: 0;\n",
       "}\n",
       "\n",
       ".xr-dim-list li {\n",
       "  display: inline-block;\n",
       "  padding: 0;\n",
       "  margin: 0;\n",
       "}\n",
       "\n",
       ".xr-dim-list:before {\n",
       "  content: '(';\n",
       "}\n",
       "\n",
       ".xr-dim-list:after {\n",
       "  content: ')';\n",
       "}\n",
       "\n",
       ".xr-dim-list li:not(:last-child):after {\n",
       "  content: ',';\n",
       "  padding-right: 5px;\n",
       "}\n",
       "\n",
       ".xr-has-index {\n",
       "  font-weight: bold;\n",
       "}\n",
       "\n",
       ".xr-var-list,\n",
       ".xr-var-item {\n",
       "  display: contents;\n",
       "}\n",
       "\n",
       ".xr-var-item > div,\n",
       ".xr-var-item label,\n",
       ".xr-var-item > .xr-var-name span {\n",
       "  background-color: var(--xr-background-color-row-even);\n",
       "  margin-bottom: 0;\n",
       "}\n",
       "\n",
       ".xr-var-item > .xr-var-name:hover span {\n",
       "  padding-right: 5px;\n",
       "}\n",
       "\n",
       ".xr-var-list > li:nth-child(odd) > div,\n",
       ".xr-var-list > li:nth-child(odd) > label,\n",
       ".xr-var-list > li:nth-child(odd) > .xr-var-name span {\n",
       "  background-color: var(--xr-background-color-row-odd);\n",
       "}\n",
       "\n",
       ".xr-var-name {\n",
       "  grid-column: 1;\n",
       "}\n",
       "\n",
       ".xr-var-dims {\n",
       "  grid-column: 2;\n",
       "}\n",
       "\n",
       ".xr-var-dtype {\n",
       "  grid-column: 3;\n",
       "  text-align: right;\n",
       "  color: var(--xr-font-color2);\n",
       "}\n",
       "\n",
       ".xr-var-preview {\n",
       "  grid-column: 4;\n",
       "}\n",
       "\n",
       ".xr-var-name,\n",
       ".xr-var-dims,\n",
       ".xr-var-dtype,\n",
       ".xr-preview,\n",
       ".xr-attrs dt {\n",
       "  white-space: nowrap;\n",
       "  overflow: hidden;\n",
       "  text-overflow: ellipsis;\n",
       "  padding-right: 10px;\n",
       "}\n",
       "\n",
       ".xr-var-name:hover,\n",
       ".xr-var-dims:hover,\n",
       ".xr-var-dtype:hover,\n",
       ".xr-attrs dt:hover {\n",
       "  overflow: visible;\n",
       "  width: auto;\n",
       "  z-index: 1;\n",
       "}\n",
       "\n",
       ".xr-var-attrs,\n",
       ".xr-var-data {\n",
       "  display: none;\n",
       "  background-color: var(--xr-background-color) !important;\n",
       "  padding-bottom: 5px !important;\n",
       "}\n",
       "\n",
       ".xr-var-attrs-in:checked ~ .xr-var-attrs,\n",
       ".xr-var-data-in:checked ~ .xr-var-data {\n",
       "  display: block;\n",
       "}\n",
       "\n",
       ".xr-var-data > table {\n",
       "  float: right;\n",
       "}\n",
       "\n",
       ".xr-var-name span,\n",
       ".xr-var-data,\n",
       ".xr-attrs {\n",
       "  padding-left: 25px !important;\n",
       "}\n",
       "\n",
       ".xr-attrs,\n",
       ".xr-var-attrs,\n",
       ".xr-var-data {\n",
       "  grid-column: 1 / -1;\n",
       "}\n",
       "\n",
       "dl.xr-attrs {\n",
       "  padding: 0;\n",
       "  margin: 0;\n",
       "  display: grid;\n",
       "  grid-template-columns: 125px auto;\n",
       "}\n",
       "\n",
       ".xr-attrs dt, dd {\n",
       "  padding: 0;\n",
       "  margin: 0;\n",
       "  float: left;\n",
       "  padding-right: 10px;\n",
       "  width: auto;\n",
       "}\n",
       "\n",
       ".xr-attrs dt {\n",
       "  font-weight: normal;\n",
       "  grid-column: 1;\n",
       "}\n",
       "\n",
       ".xr-attrs dt:hover span {\n",
       "  display: inline-block;\n",
       "  background: var(--xr-background-color);\n",
       "  padding-right: 10px;\n",
       "}\n",
       "\n",
       ".xr-attrs dd {\n",
       "  grid-column: 2;\n",
       "  white-space: pre-wrap;\n",
       "  word-break: break-all;\n",
       "}\n",
       "\n",
       ".xr-icon-database,\n",
       ".xr-icon-file-text2 {\n",
       "  display: inline-block;\n",
       "  vertical-align: middle;\n",
       "  width: 1em;\n",
       "  height: 1.5em !important;\n",
       "  stroke-width: 0;\n",
       "  stroke: currentColor;\n",
       "  fill: currentColor;\n",
       "}\n",
       "</style><pre class='xr-text-repr-fallback'>&lt;xarray.Dataset&gt;\n",
       "Dimensions:  (lat: 64, lon: 128, time: 216)\n",
       "Coordinates:\n",
       "  * lat      (lat) float32 -87.8638 -85.09653 -82.31291 ... 85.09653 87.8638\n",
       "  * lon      (lon) float32 0.0 2.8125 5.625 8.4375 ... 351.5625 354.375 357.1875\n",
       "  * time     (time) float64 7.901e+03 7.902e+03 ... 9.611e+03 9.612e+03\n",
       "Data variables:\n",
       "    gwgt     (lat) float32 0.0017832807 0.004147033 ... 0.004147033 0.0017832807\n",
       "    prc      (time, lat, lon) float32 ...\n",
       "Attributes:\n",
       "    title:        CPC Merged Monthly Precipitation Estimates\n",
       "    source:       Pingping Xie and Phil Arkin (CPC); xping@sgi17.wwb.noaa.gov\n",
       "    history:      \\nFile read in the original format received \\nCPC source na...\n",
       "    references:   \\nXie and Arkin, 1996:\\nAnalyses of Global Monthly Precipit...\n",
       "    Conventions:  none</pre><div class='xr-wrap' hidden><div class='xr-header'><div class='xr-obj-type'>xarray.Dataset</div></div><ul class='xr-sections'><li class='xr-section-item'><input id='section-c1615748-0a33-498f-9917-8cde47f95fdd' class='xr-section-summary-in' type='checkbox' disabled ><label for='section-c1615748-0a33-498f-9917-8cde47f95fdd' class='xr-section-summary'  title='Expand/collapse section'>Dimensions:</label><div class='xr-section-inline-details'><ul class='xr-dim-list'><li><span class='xr-has-index'>lat</span>: 64</li><li><span class='xr-has-index'>lon</span>: 128</li><li><span class='xr-has-index'>time</span>: 216</li></ul></div><div class='xr-section-details'></div></li><li class='xr-section-item'><input id='section-7932cd0a-aab5-4268-a910-b3904f89df89' class='xr-section-summary-in' type='checkbox'  checked><label for='section-7932cd0a-aab5-4268-a910-b3904f89df89' class='xr-section-summary' >Coordinates: <span>(3)</span></label><div class='xr-section-inline-details'></div><div class='xr-section-details'><ul class='xr-var-list'><li class='xr-var-item'><div class='xr-var-name'><span class='xr-has-index'>lat</span></div><div class='xr-var-dims'>(lat)</div><div class='xr-var-dtype'>float32</div><div class='xr-var-preview xr-preview'>-87.8638 -85.09653 ... 87.8638</div><input id='attrs-dd992efa-685a-4c2a-962f-dc529f58caba' class='xr-var-attrs-in' type='checkbox' ><label for='attrs-dd992efa-685a-4c2a-962f-dc529f58caba' title='Show/Hide attributes'><svg class='icon xr-icon-file-text2'><use xlink:href='#icon-file-text2'></use></svg></label><input id='data-75cdfbcf-5f54-4c9d-bcf1-fdc9136b2e37' class='xr-var-data-in' type='checkbox'><label for='data-75cdfbcf-5f54-4c9d-bcf1-fdc9136b2e37' title='Show/Hide data repr'><svg class='icon xr-icon-database'><use xlink:href='#icon-database'></use></svg></label><div class='xr-var-attrs'><dl class='xr-attrs'><dt><span>short_name :</span></dt><dd>lat</dd><dt><span>long_name :</span></dt><dd>latitude</dd><dt><span>units :</span></dt><dd>degrees_north</dd></dl></div><div class='xr-var-data'><pre>array([-87.8638  , -85.09653 , -82.31291 , -79.525604, -76.7369  , -73.94752 ,\n",
       "       -71.15775 , -68.36776 , -65.57761 , -62.787354, -59.99702 , -57.20663 ,\n",
       "       -54.4162  , -51.625732, -48.83524 , -46.044727, -43.254196, -40.46365 ,\n",
       "       -37.673088, -34.882523, -32.091946, -29.30136 , -26.510769, -23.720175,\n",
       "       -20.929575, -18.138971, -15.348365, -12.557756,  -9.767145,  -6.976533,\n",
       "        -4.185921,  -1.395307,   1.395307,   4.185921,   6.976533,   9.767145,\n",
       "        12.557756,  15.348365,  18.138971,  20.929575,  23.720175,  26.510769,\n",
       "        29.30136 ,  32.091946,  34.882523,  37.673088,  40.46365 ,  43.254196,\n",
       "        46.044727,  48.83524 ,  51.625732,  54.4162  ,  57.20663 ,  59.99702 ,\n",
       "        62.787354,  65.57761 ,  68.36776 ,  71.15775 ,  73.94752 ,  76.7369  ,\n",
       "        79.525604,  82.31291 ,  85.09653 ,  87.8638  ], dtype=float32)</pre></div></li><li class='xr-var-item'><div class='xr-var-name'><span class='xr-has-index'>lon</span></div><div class='xr-var-dims'>(lon)</div><div class='xr-var-dtype'>float32</div><div class='xr-var-preview xr-preview'>0.0 2.8125 ... 354.375 357.1875</div><input id='attrs-f7a28b4c-6314-455b-9994-93260669a396' class='xr-var-attrs-in' type='checkbox' ><label for='attrs-f7a28b4c-6314-455b-9994-93260669a396' title='Show/Hide attributes'><svg class='icon xr-icon-file-text2'><use xlink:href='#icon-file-text2'></use></svg></label><input id='data-68b5b5ad-5533-4aba-b136-3dc472edd9fe' class='xr-var-data-in' type='checkbox'><label for='data-68b5b5ad-5533-4aba-b136-3dc472edd9fe' title='Show/Hide data repr'><svg class='icon xr-icon-database'><use xlink:href='#icon-database'></use></svg></label><div class='xr-var-attrs'><dl class='xr-attrs'><dt><span>short_name :</span></dt><dd>lon</dd><dt><span>long_name :</span></dt><dd>longitude</dd><dt><span>units :</span></dt><dd>degrees_east</dd></dl></div><div class='xr-var-data'><pre>array([  0.    ,   2.8125,   5.625 ,   8.4375,  11.25  ,  14.0625,  16.875 ,\n",
       "        19.6875,  22.5   ,  25.3125,  28.125 ,  30.9375,  33.75  ,  36.5625,\n",
       "        39.375 ,  42.1875,  45.    ,  47.8125,  50.625 ,  53.4375,  56.25  ,\n",
       "        59.0625,  61.875 ,  64.6875,  67.5   ,  70.3125,  73.125 ,  75.9375,\n",
       "        78.75  ,  81.5625,  84.375 ,  87.1875,  90.    ,  92.8125,  95.625 ,\n",
       "        98.4375, 101.25  , 104.0625, 106.875 , 109.6875, 112.5   , 115.3125,\n",
       "       118.125 , 120.9375, 123.75  , 126.5625, 129.375 , 132.1875, 135.    ,\n",
       "       137.8125, 140.625 , 143.4375, 146.25  , 149.0625, 151.875 , 154.6875,\n",
       "       157.5   , 160.3125, 163.125 , 165.9375, 168.75  , 171.5625, 174.375 ,\n",
       "       177.1875, 180.    , 182.8125, 185.625 , 188.4375, 191.25  , 194.0625,\n",
       "       196.875 , 199.6875, 202.5   , 205.3125, 208.125 , 210.9375, 213.75  ,\n",
       "       216.5625, 219.375 , 222.1875, 225.    , 227.8125, 230.625 , 233.4375,\n",
       "       236.25  , 239.0625, 241.875 , 244.6875, 247.5   , 250.3125, 253.125 ,\n",
       "       255.9375, 258.75  , 261.5625, 264.375 , 267.1875, 270.    , 272.8125,\n",
       "       275.625 , 278.4375, 281.25  , 284.0625, 286.875 , 289.6875, 292.5   ,\n",
       "       295.3125, 298.125 , 300.9375, 303.75  , 306.5625, 309.375 , 312.1875,\n",
       "       315.    , 317.8125, 320.625 , 323.4375, 326.25  , 329.0625, 331.875 ,\n",
       "       334.6875, 337.5   , 340.3125, 343.125 , 345.9375, 348.75  , 351.5625,\n",
       "       354.375 , 357.1875], dtype=float32)</pre></div></li><li class='xr-var-item'><div class='xr-var-name'><span class='xr-has-index'>time</span></div><div class='xr-var-dims'>(time)</div><div class='xr-var-dtype'>float64</div><div class='xr-var-preview xr-preview'>7.901e+03 7.902e+03 ... 9.612e+03</div><input id='attrs-c1ba7d08-46d3-49f1-89cc-9636cfb3d486' class='xr-var-attrs-in' type='checkbox' ><label for='attrs-c1ba7d08-46d3-49f1-89cc-9636cfb3d486' title='Show/Hide attributes'><svg class='icon xr-icon-file-text2'><use xlink:href='#icon-file-text2'></use></svg></label><input id='data-5eca0970-dca2-4af2-8595-6dd36851bcb4' class='xr-var-data-in' type='checkbox'><label for='data-5eca0970-dca2-4af2-8595-6dd36851bcb4' title='Show/Hide data repr'><svg class='icon xr-icon-database'><use xlink:href='#icon-database'></use></svg></label><div class='xr-var-attrs'><dl class='xr-attrs'><dt><span>long_name :</span></dt><dd>Year-Month</dd><dt><span>short_name :</span></dt><dd>YRMO</dd><dt><span>units :</span></dt><dd>yyyymm</dd></dl></div><div class='xr-var-data'><pre>array([7901., 7902., 7903., ..., 9610., 9611., 9612.])</pre></div></li></ul></div></li><li class='xr-section-item'><input id='section-920f0131-370e-42c3-89b9-6ef0c9bb58e5' class='xr-section-summary-in' type='checkbox'  checked><label for='section-920f0131-370e-42c3-89b9-6ef0c9bb58e5' class='xr-section-summary' >Data variables: <span>(2)</span></label><div class='xr-section-inline-details'></div><div class='xr-section-details'><ul class='xr-var-list'><li class='xr-var-item'><div class='xr-var-name'><span>gwgt</span></div><div class='xr-var-dims'>(lat)</div><div class='xr-var-dtype'>float32</div><div class='xr-var-preview xr-preview'>...</div><input id='attrs-f2cfb5e3-73d7-43d7-9582-e7ef13459ff3' class='xr-var-attrs-in' type='checkbox' ><label for='attrs-f2cfb5e3-73d7-43d7-9582-e7ef13459ff3' title='Show/Hide attributes'><svg class='icon xr-icon-file-text2'><use xlink:href='#icon-file-text2'></use></svg></label><input id='data-6ac525e0-874d-47d2-ab5a-d2082a21ed78' class='xr-var-data-in' type='checkbox'><label for='data-6ac525e0-874d-47d2-ab5a-d2082a21ed78' title='Show/Hide data repr'><svg class='icon xr-icon-database'><use xlink:href='#icon-database'></use></svg></label><div class='xr-var-attrs'><dl class='xr-attrs'><dt><span>long_name :</span></dt><dd>gaussian weights</dd><dt><span>short_name :</span></dt><dd>gwgts</dd><dt><span>units :</span></dt><dd>dimensionless</dd></dl></div><div class='xr-var-data'><pre>array([0.001783, 0.004147, 0.006504, 0.008847, 0.011168, 0.013463, 0.015726,\n",
       "       0.017952, 0.020135, 0.02227 , 0.024353, 0.026377, 0.02834 , 0.030235,\n",
       "       0.032058, 0.033805, 0.035472, 0.037055, 0.03855 , 0.039954, 0.041263,\n",
       "       0.042474, 0.043584, 0.044591, 0.045492, 0.046285, 0.046968, 0.04754 ,\n",
       "       0.047999, 0.048345, 0.048575, 0.048691, 0.048691, 0.048575, 0.048345,\n",
       "       0.047999, 0.04754 , 0.046968, 0.046285, 0.045492, 0.044591, 0.043584,\n",
       "       0.042474, 0.041263, 0.039954, 0.03855 , 0.037055, 0.035472, 0.033805,\n",
       "       0.032058, 0.030235, 0.02834 , 0.026377, 0.024353, 0.02227 , 0.020135,\n",
       "       0.017952, 0.015726, 0.013463, 0.011168, 0.008847, 0.006504, 0.004147,\n",
       "       0.001783], dtype=float32)</pre></div></li><li class='xr-var-item'><div class='xr-var-name'><span>prc</span></div><div class='xr-var-dims'>(time, lat, lon)</div><div class='xr-var-dtype'>float32</div><div class='xr-var-preview xr-preview'>...</div><input id='attrs-89034e4c-971f-4499-bded-66bc63285769' class='xr-var-attrs-in' type='checkbox' ><label for='attrs-89034e4c-971f-4499-bded-66bc63285769' title='Show/Hide attributes'><svg class='icon xr-icon-file-text2'><use xlink:href='#icon-file-text2'></use></svg></label><input id='data-3fd7de44-cdea-45bd-b543-617a544ba750' class='xr-var-data-in' type='checkbox'><label for='data-3fd7de44-cdea-45bd-b543-617a544ba750' title='Show/Hide data repr'><svg class='icon xr-icon-database'><use xlink:href='#icon-database'></use></svg></label><div class='xr-var-attrs'><dl class='xr-attrs'><dt><span>short_name :</span></dt><dd>PRC</dd><dt><span>long_name :</span></dt><dd>Precipitation</dd><dt><span>units :</span></dt><dd>mm/day</dd></dl></div><div class='xr-var-data'><pre>[1769472 values with dtype=float32]</pre></div></li></ul></div></li><li class='xr-section-item'><input id='section-2f7f0aee-dd31-4803-bd07-c2d6e45d2d72' class='xr-section-summary-in' type='checkbox'  checked><label for='section-2f7f0aee-dd31-4803-bd07-c2d6e45d2d72' class='xr-section-summary' >Attributes: <span>(5)</span></label><div class='xr-section-inline-details'></div><div class='xr-section-details'><dl class='xr-attrs'><dt><span>title :</span></dt><dd>CPC Merged Monthly Precipitation Estimates</dd><dt><span>source :</span></dt><dd>Pingping Xie and Phil Arkin (CPC); xping@sgi17.wwb.noaa.gov</dd><dt><span>history :</span></dt><dd>\n",
       "File read in the original format received \n",
       "CPC source name; merge_mon_v9708.txt\n",
       "NCAR source name; ds728.1 ; MSS=/DSS/Y39635\n",
       "msread -f CH merge_mon_v9708.txt /DSS/Y39635\n",
       "\n",
       "The data were the rain1 field which combines\n",
       "observed and model data. No grid pts are missing.\n",
       "\n",
       "Creation date: Tue Mar  3 18:45:03 MST 1998</dd><dt><span>references :</span></dt><dd>\n",
       "Xie and Arkin, 1996:\n",
       "Analyses of Global Monthly Precipitation\n",
       "Using Gauge Observations, Satellite Estimates, and\n",
       "Numerical Model Predictions.  J. Climate, 9, 840-858.\n",
       "------------------------------------------------------\n",
       "Xie and Arkin, 1997:\n",
       "Global Precipitation: A 17-Year Monthly Analysis\n",
       "Based on Gauge Observations, Satellite Estimates\n",
       "and Numerical Model Outputs. BAMS, 78, </dd><dt><span>Conventions :</span></dt><dd>none</dd></dl></div></li></ul></div></div>"
      ],
      "text/plain": [
       "<xarray.Dataset>\n",
       "Dimensions:  (lat: 64, lon: 128, time: 216)\n",
       "Coordinates:\n",
       "  * lat      (lat) float32 -87.8638 -85.09653 -82.31291 ... 85.09653 87.8638\n",
       "  * lon      (lon) float32 0.0 2.8125 5.625 8.4375 ... 351.5625 354.375 357.1875\n",
       "  * time     (time) float64 7.901e+03 7.902e+03 ... 9.611e+03 9.612e+03\n",
       "Data variables:\n",
       "    gwgt     (lat) float32 ...\n",
       "    prc      (time, lat, lon) float32 ...\n",
       "Attributes:\n",
       "    title:        CPC Merged Monthly Precipitation Estimates\n",
       "    source:       Pingping Xie and Phil Arkin (CPC); xping@sgi17.wwb.noaa.gov\n",
       "    history:      \\nFile read in the original format received \\nCPC source na...\n",
       "    references:   \\nXie and Arkin, 1996:\\nAnalyses of Global Monthly Precipit...\n",
       "    Conventions:  none"
      ]
     },
     "execution_count": 4,
     "metadata": {},
     "output_type": "execute_result"
    }
   ],
   "source": [
    "ds = xr.open_dataset('precipitation.nc')\n",
    "ds"
   ]
  },
  {
   "cell_type": "markdown",
   "metadata": {},
   "source": [
    "# Know your variable"
   ]
  },
  {
   "cell_type": "code",
   "execution_count": 5,
   "metadata": {},
   "outputs": [
    {
     "data": {
      "text/plain": [
       "<class 'netCDF4._netCDF4.Variable'>\n",
       "float32 prc(time, lat, lon)\n",
       "    short_name: PRC\n",
       "    long_name: Precipitation\n",
       "    units: mm/day\n",
       "    _FillValue: -999.0\n",
       "unlimited dimensions: \n",
       "current shape = (216, 64, 128)\n",
       "filling on"
      ]
     },
     "execution_count": 5,
     "metadata": {},
     "output_type": "execute_result"
    }
   ],
   "source": [
    "data.variables['prc']"
   ]
  },
  {
   "cell_type": "markdown",
   "metadata": {},
   "source": [
    "# We need to know the minimum and maximum latlon for mapping"
   ]
  },
  {
   "cell_type": "code",
   "execution_count": 6,
   "metadata": {},
   "outputs": [
    {
     "name": "stdout",
     "output_type": "stream",
     "text": [
      "min_lat  =  -87.8638\n",
      "max_lat  =  87.8638\n",
      "min_lon  =  0.0\n",
      "max_lon  =  357.1875\n"
     ]
    }
   ],
   "source": [
    "print(\"min_lat  = \", min(data.variables['lat']))\n",
    "print(\"max_lat  = \", max(data.variables['lat']))\n",
    "print(\"min_lon  = \", min(data.variables['lon']))\n",
    "print(\"max_lon  = \", max(data.variables['lon']))"
   ]
  },
  {
   "cell_type": "code",
   "execution_count": 7,
   "metadata": {},
   "outputs": [
    {
     "name": "stdout",
     "output_type": "stream",
     "text": [
      "[[0.328615   0.32649407 0.32465214 ... 0.3369908  0.333855   0.33105692]\n",
      " [0.2591474  0.26262572 0.26580238 ... 0.24838836 0.25187734 0.25541523]\n",
      " [0.39385906 0.39131266 0.38667652 ... 0.3910227  0.39348662 0.3945333 ]\n",
      " ...\n",
      " [0.57567424 0.5975326  0.6245758  ... 0.55330473 0.5529246  0.56047904]\n",
      " [0.64617604 0.65975326 0.67477953 ... 0.61600125 0.6242001  0.6342811 ]\n",
      " [0.5605251  0.57392156 0.5873435  ... 0.52158374 0.5343335  0.5472972 ]]\n"
     ]
    }
   ],
   "source": [
    "lat  = data.variables['lat'][:]\n",
    "lon  = data.variables['lon'][:]\n",
    "time = data.variables['time'][:]\n",
    "prc  = data.variables['prc'][:]\n",
    "\n",
    "mean_rainfall = np.mean(prc, axis=0)\n",
    "print(mean_rainfall)"
   ]
  },
  {
   "cell_type": "code",
   "execution_count": 8,
   "metadata": {},
   "outputs": [
    {
     "data": {
      "text/plain": [
       "Text(0, 0.5, 'Latitude')"
      ]
     },
     "execution_count": 8,
     "metadata": {},
     "output_type": "execute_result"
    },
    {
     "data": {
      "image/png": "[encoded data removed]",
      "text/plain": [
       "<Figure size 432x288 with 1 Axes>"
      ]
     },
     "metadata": {
      "needs_background": "light"
     },
     "output_type": "display_data"
    }
   ],
   "source": [
    "plt.contourf(lon, lat, mean_rainfall)\n",
    "plt.xlim(60,100)\n",
    "plt.ylim(5,30)\n",
    "plt.xlabel('Longitude')\n",
    "plt.ylabel('Latitude')"
   ]
  },
  {
   "cell_type": "markdown",
   "metadata": {},
   "source": [
    "# Understanding the transform and projection keywords\n",
    "\n",
    "https://scitools.org.uk/cartopy/docs/latest/tutorials/understanding_transform.html\n",
    "\n",
    "https://scitools.org.uk/cartopy/docs/v0.15/crs/projections.html   "
   ]
  },
  {
   "cell_type": "code",
   "execution_count": 10,
   "metadata": {},
   "outputs": [
    {
     "data": {
      "image/png": "[encoded data removed]",
      "text/plain": [
       "<Figure size 432x288 with 1 Axes>"
      ]
     },
     "metadata": {
      "needs_background": "light"
     },
     "output_type": "display_data"
    }
   ],
   "source": [
    "dataset = netcdf.netcdf_file('precipitation.nc', maskandscale = True, mmap = False)\n",
    "\n",
    "prc  = dataset.variables['prc'][0, :, :]\n",
    "lats = dataset.variables['lat'][:]\n",
    "lons = dataset.variables['lon'][:]\n",
    "\n",
    "ax   = plt.axes(projection=ccrs.PlateCarree())\n",
    "\n",
    "plt.contourf(lons, lats, prc, cmap = 'YlOrRd', transform=ccrs.PlateCarree())\n",
    "\n",
    "\n",
    "ax.set_extent([30, 170, -30, 30])   # regional map (x0, x1, y0, y1)  \n",
    "ax.coastlines()\n",
    "ax.gridlines(draw_labels=True)\n",
    "plt.show()"
   ]
  },
  {
   "cell_type": "markdown",
   "metadata": {},
   "source": [
    "# Adding Features to the Map"
   ]
  },
  {
   "cell_type": "code",
   "execution_count": 11,
   "metadata": {},
   "outputs": [
    {
     "data": {
      "image/png": "[encoded data removed]",
      "text/plain": [
       "<Figure size 432x288 with 2 Axes>"
      ]
     },
     "metadata": {
      "needs_background": "light"
     },
     "output_type": "display_data"
    }
   ],
   "source": [
    "import cartopy.feature\n",
    "\n",
    "ax   = plt.axes(projection=ccrs.PlateCarree())\n",
    "\n",
    "plot = plt.contourf(lons, lats, prc, cmap = 'YlOrRd', transform=ccrs.PlateCarree())\n",
    "plt.colorbar(plot, ax=ax, shrink=0.8)\n",
    "\n",
    "ax.set_extent([30, 170, -30, 30])   # regional map (x0, x1, y0, y1)  \n",
    "ax.coastlines()\n",
    "\n",
    "gl = ax.gridlines(draw_labels=True)\n",
    "gl.top_labels   = False\n",
    "gl.right_labels = False\n",
    "\n",
    "\n",
    "ax.add_feature(cartopy.feature.OCEAN)\n",
    "ax.add_feature(cartopy.feature.LAND, edgecolor='black')\n",
    "ax.add_feature(cartopy.feature.LAKES, edgecolor='black')\n",
    "ax.add_feature(cartopy.feature.RIVERS)\n",
    "plt.show()"
   ]
  },
  {
   "cell_type": "code",
   "execution_count": 12,
   "metadata": {},
   "outputs": [
    {
     "data": {
      "image/png": "[encoded data removed]",
      "text/plain": [
       "<Figure size 432x288 with 2 Axes>"
      ]
     },
     "metadata": {
      "needs_background": "light"
     },
     "output_type": "display_data"
    }
   ],
   "source": [
    "ds = xr.open_dataset('precipitation.nc')\n",
    "\n",
    "prc  = ds.prc[0,:,:]\n",
    "\n",
    "ax1   = plt.axes(projection = ccrs.PlateCarree())\n",
    "ax1.set_extent([30, 170, -30, 30])   # regional map (x0, x1, y0, y1)  \n",
    "ax1.coastlines()\n",
    "\n",
    "gl = ax1.gridlines(draw_labels=True)\n",
    "gl.top_labels   = False\n",
    "gl.right_labels = False\n",
    "\n",
    "prc.plot(ax=ax1, cmap = 'YlOrRd', transform=ccrs.PlateCarree(),cbar_kwargs={'shrink': 0.8})\n",
    "plt.title('')\n",
    "plt.show()"
   ]
  },
  {
   "cell_type": "raw",
   "metadata": {},
   "source": [
    "A good tutorial:  https://rabernat.github.io/research_computing_2018/maps-with-cartopy.html"
   ]
  }
 ],
 "metadata": {
  "kernelspec": {
   "display_name": "Python 3 (ipykernel)",
   "language": "python",
   "name": "python3"
  },
  "language_info": {
   "codemirror_mode": {
    "name": "ipython",
    "version": 3
   },
   "file_extension": ".py",
   "mimetype": "text/x-python",
   "name": "python",
   "nbconvert_exporter": "python",
   "pygments_lexer": "ipython3",
   "version": "3.11.7"
  }
 },
 "nbformat": 4,
 "nbformat_minor": 4
}
