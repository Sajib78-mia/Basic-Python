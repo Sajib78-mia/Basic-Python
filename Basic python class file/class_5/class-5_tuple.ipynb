{
 "cells": [
  {
   "cell_type": "markdown",
   "metadata": {},
   "source": [
    "# Trainer: \n",
    "\n",
    "Md. Jalal Uddin, Founder and director of Research Society https://researchsociety20.org/founder-and-director/\n",
    "\n",
    "email: 20205103002@nuist.edu.cn, dmjalal90@gmail.com"
   ]
  },
  {
   "cell_type": "markdown",
   "metadata": {},
   "source": [
    "# Tuple\n",
    "\n",
    "By placing all the items (elements) inside parentheses () and separating by commas, we can create a tuple.\n",
    "\n",
    "The difference between list and tuple: list (we can change the elements), tubple (we cannot)"
   ]
  },
  {
   "cell_type": "code",
   "execution_count": 1,
   "metadata": {},
   "outputs": [
    {
     "name": "stdout",
     "output_type": "stream",
     "text": [
      "('Hello', 'Jalal')\n"
     ]
    }
   ],
   "source": [
    "tuple_   = ('Hello', 'Jalal')\n",
    "print(tuple_)"
   ]
  },
  {
   "cell_type": "code",
   "execution_count": 2,
   "metadata": {},
   "outputs": [
    {
     "name": "stdout",
     "output_type": "stream",
     "text": [
      "('Hello', 'Jalal')\n",
      "(1, 2, 3, 4)\n",
      "('Jalal', 'Ripa', 2, 4, 6)\n",
      "('Jalal', 'Ripa', [2, 4, 6])\n"
     ]
    }
   ],
   "source": [
    "tuple1  = 'Hello', 'Jalal'\n",
    "print(tuple1)\n",
    "\n",
    "tuple2  = (1,2,3,4)\n",
    "print(tuple2)\n",
    " \n",
    "tuple3  = ('Jalal','Ripa', 2, 4, 6)     # mixed data type\n",
    "print(tuple3)\n",
    "\n",
    "tuple4  = ('Jalal','Ripa', [2, 4, 6])   # nested tuple\n",
    "print(tuple4)"
   ]
  },
  {
   "cell_type": "markdown",
   "metadata": {},
   "source": [
    "# index operator []"
   ]
  },
  {
   "cell_type": "code",
   "execution_count": 3,
   "metadata": {},
   "outputs": [
    {
     "name": "stdout",
     "output_type": "stream",
     "text": [
      "Hello\n",
      "Jalal\n",
      "Jalal\n",
      "Hello\n"
     ]
    }
   ],
   "source": [
    "print(tuple1[0])    # returns the first item\n",
    "\n",
    "print(tuple1[1])    # returns the second item\n",
    "\n",
    "print(tuple1[-1])   # returns the first item from the end\n",
    "\n",
    "print(tuple1[-2])   # returns the second item from the end    "
   ]
  },
  {
   "cell_type": "markdown",
   "metadata": {},
   "source": [
    "# slicing operator: colon (:)"
   ]
  },
  {
   "cell_type": "code",
   "execution_count": 4,
   "metadata": {},
   "outputs": [
    {
     "name": "stdout",
     "output_type": "stream",
     "text": [
      "('Jalal', 'Ripa', 2)\n"
     ]
    }
   ],
   "source": [
    "print(tuple3[0:3])"
   ]
  },
  {
   "cell_type": "markdown",
   "metadata": {},
   "source": [
    "#  concatenation"
   ]
  },
  {
   "cell_type": "code",
   "execution_count": 5,
   "metadata": {},
   "outputs": [
    {
     "name": "stdout",
     "output_type": "stream",
     "text": [
      "('Hello', 'Jalal', 1, 2, 3, 4)\n",
      "('Hello', 'Jalal', 'Hello', 'Jalal', 'Hello', 'Jalal')\n"
     ]
    }
   ],
   "source": [
    "con = tuple_ + tuple2\n",
    "print(con)\n",
    "\n",
    "# repeat the tuple\n",
    "print(tuple_*3)  "
   ]
  },
  {
   "cell_type": "markdown",
   "metadata": {},
   "source": [
    "# delete\n",
    "\n",
    "we can't delete items but can delete entire tuple."
   ]
  },
  {
   "cell_type": "code",
   "execution_count": 6,
   "metadata": {},
   "outputs": [
    {
     "ename": "NameError",
     "evalue": "name 'tuple_' is not defined",
     "output_type": "error",
     "traceback": [
      "\u001b[1;31m---------------------------------------------------------------------------\u001b[0m",
      "\u001b[1;31mNameError\u001b[0m                                 Traceback (most recent call last)",
      "\u001b[1;32m<ipython-input-6-a00055b7fc21>\u001b[0m in \u001b[0;36m<module>\u001b[1;34m\u001b[0m\n\u001b[0;32m      1\u001b[0m \u001b[1;32mdel\u001b[0m \u001b[0mtuple_\u001b[0m\u001b[1;33m\u001b[0m\u001b[1;33m\u001b[0m\u001b[0m\n\u001b[0;32m      2\u001b[0m \u001b[1;33m\u001b[0m\u001b[0m\n\u001b[1;32m----> 3\u001b[1;33m \u001b[0mprint\u001b[0m\u001b[1;33m(\u001b[0m\u001b[0mtuple_\u001b[0m\u001b[1;33m)\u001b[0m\u001b[1;33m\u001b[0m\u001b[1;33m\u001b[0m\u001b[0m\n\u001b[0m",
      "\u001b[1;31mNameError\u001b[0m: name 'tuple_' is not defined"
     ]
    }
   ],
   "source": [
    "del tuple_\n",
    "\n",
    "print(tuple_)"
   ]
  },
  {
   "cell_type": "markdown",
   "metadata": {},
   "source": [
    "# know the position or location"
   ]
  },
  {
   "cell_type": "code",
   "execution_count": 7,
   "metadata": {},
   "outputs": [
    {
     "name": "stdout",
     "output_type": "stream",
     "text": [
      "5\n",
      "2\n",
      "4\n"
     ]
    }
   ],
   "source": [
    "tuple5  = ('Hello', 'Jalal','1','Jalal','3')\n",
    "\n",
    "print(len(tuple5))\n",
    "\n",
    "print(tuple5.count('Jalal'))  \n",
    "print(tuple5.index('3'))     "
   ]
  },
  {
   "cell_type": "markdown",
   "metadata": {},
   "source": [
    "# Membership operator (in, not in)"
   ]
  },
  {
   "cell_type": "code",
   "execution_count": 8,
   "metadata": {},
   "outputs": [
    {
     "name": "stdout",
     "output_type": "stream",
     "text": [
      "True\n",
      "False\n"
     ]
    }
   ],
   "source": [
    "print('Jalal' in tuple5)\n",
    "\n",
    "print('Jalal' not in tuple5)"
   ]
  },
  {
   "cell_type": "code",
   "execution_count": null,
   "metadata": {},
   "outputs": [],
   "source": []
  }
 ],
 "metadata": {
  "kernelspec": {
   "display_name": "Python 3",
   "language": "python",
   "name": "python3"
  },
  "language_info": {
   "codemirror_mode": {
    "name": "ipython",
    "version": 3
   },
   "file_extension": ".py",
   "mimetype": "text/x-python",
   "name": "python",
   "nbconvert_exporter": "python",
   "pygments_lexer": "ipython3",
   "version": "3.8.8"
  }
 },
 "nbformat": 4,
 "nbformat_minor": 4
}
