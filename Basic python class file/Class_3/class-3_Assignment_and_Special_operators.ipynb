{
 "cells": [
  {
   "cell_type": "markdown",
   "metadata": {},
   "source": [
    "# Assignment and special operators in Python\n",
    "\n",
    "Trainer: Md. Jalal Uddin \n",
    "    \n",
    "Founder and director of Research Society https://researchsociety20.org/founder-and-director/\n",
    "\n",
    "email: 20205103002@nuist.edu.cn, dmjalal90@gmail.com"
   ]
  },
  {
   "cell_type": "markdown",
   "metadata": {},
   "source": [
    "# Assignment operators"
   ]
  },
  {
   "cell_type": "code",
   "execution_count": 1,
   "metadata": {},
   "outputs": [
    {
     "name": "stdout",
     "output_type": "stream",
     "text": [
      "a = 25\n",
      "b = 100\n",
      "c = 0.5\n",
      "d = 3\n",
      "e = 1048576\n",
      "f = 1\n",
      "g = -3\n"
     ]
    }
   ],
   "source": [
    "a = 15\n",
    "b = 10\n",
    "c = 5\n",
    "d = 3\n",
    "e = 4\n",
    "f = 15\n",
    "g = 7\n",
    "\n",
    "a += 10                     # a + 10\n",
    "print (\"a =\",a) \n",
    "\n",
    "b *= 10                     # b * 10\n",
    "print (\"b =\",b) \n",
    "\n",
    "c /= 10                     # c / 10\n",
    "print (\"c =\",c)  \n",
    "\n",
    "d %= 10                     # d % 10\n",
    "print (\"d =\",d)  \n",
    "\n",
    "e **= 10                    # e ** 10\n",
    "print (\"e =\",e)  \n",
    "\n",
    "f //= 10                    # f // 10\n",
    "print (\"f =\",f) \n",
    "\n",
    "g -= 10                     # g - 10\n",
    "print (\"g =\",g) "
   ]
  },
  {
   "cell_type": "markdown",
   "metadata": {},
   "source": [
    "# Special operators:\n",
    "\n",
    "Identity operators (check if two values or variables are located on the same part of the memory)\n",
    "\n",
    "Membership operators (test whether a value or variable is found in a sequence)\n",
    "\n",
    "Adapted from: https://www.programiz.com/python-programming/operators"
   ]
  },
  {
   "cell_type": "markdown",
   "metadata": {},
   "source": [
    "# Identity operators:   \"is\" and \"is not\""
   ]
  },
  {
   "cell_type": "code",
   "execution_count": 3,
   "metadata": {},
   "outputs": [
    {
     "name": "stdout",
     "output_type": "stream",
     "text": [
      "False\n",
      "True\n",
      "True\n"
     ]
    }
   ],
   "source": [
    "a = [\"Jalal\", \"Ripa\"]\n",
    "b = [\"Jalal\", \"Ripa\"]\n",
    "\n",
    "print(a is b)      # Though a and b have the same content, a is not the same object as b.\n",
    "\n",
    "c = 'Jalal'\n",
    "d = 'Jalal'\n",
    "\n",
    "print(c is d)      # returns True because c and d are located on the same part of the memory.\n",
    "\n",
    "print(a is not b) "
   ]
  },
  {
   "cell_type": "markdown",
   "metadata": {},
   "source": [
    "# Membership operators: \"in\" and \"not in\""
   ]
  },
  {
   "cell_type": "code",
   "execution_count": 4,
   "metadata": {},
   "outputs": [
    {
     "name": "stdout",
     "output_type": "stream",
     "text": [
      "True\n",
      "False\n"
     ]
    }
   ],
   "source": [
    "a = [\"Jalal\", \"Ripa\"]\n",
    "b = [\"Jalal\", \"Ripa\"]\n",
    "\n",
    "print(\"Jalal\" in a)\n",
    "print(\"Jalal\" not in a)"
   ]
  },
  {
   "cell_type": "code",
   "execution_count": 5,
   "metadata": {},
   "outputs": [
    {
     "name": "stdout",
     "output_type": "stream",
     "text": [
      "male is exist in name_list\n"
     ]
    }
   ],
   "source": [
    "male   = \"Jalal\"\n",
    "female = \"Ripa\"\n",
    "\n",
    "name_list = [\"Jalal\",\"Ripa\",\"Jara\",\"Zahura\"]\n",
    " \n",
    "if (male not in name_list):\n",
    "    print(\"male is NOT exist in name_list\")\n",
    "else:\n",
    "    print(\"male is exist in name_list\")"
   ]
  },
  {
   "cell_type": "code",
   "execution_count": 6,
   "metadata": {},
   "outputs": [
    {
     "name": "stdout",
     "output_type": "stream",
     "text": [
      "female is exist in name_list\n"
     ]
    }
   ],
   "source": [
    "if (female in name_list):\n",
    "    print(\"female is exist in name_list\")\n",
    "else:\n",
    "    print(\"female is NOT exist in name_list\")"
   ]
  },
  {
   "cell_type": "code",
   "execution_count": null,
   "metadata": {},
   "outputs": [],
   "source": []
  }
 ],
 "metadata": {
  "kernelspec": {
   "display_name": "Python 3",
   "language": "python",
   "name": "python3"
  },
  "language_info": {
   "codemirror_mode": {
    "name": "ipython",
    "version": 3
   },
   "file_extension": ".py",
   "mimetype": "text/x-python",
   "name": "python",
   "nbconvert_exporter": "python",
   "pygments_lexer": "ipython3",
   "version": "3.8.8"
  }
 },
 "nbformat": 4,
 "nbformat_minor": 4
}
